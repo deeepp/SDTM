{
  "cells": [
    {
      "cell_type": "markdown",
      "metadata": {
        "id": "uggIMEYr4Hyq"
      },
      "source": [
        "Two approaches\n",
        "1) scraping existing website and store all drug names - class names\n",
        "2)  api"
      ]
    },
    {
      "cell_type": "code",
      "execution_count": null,
      "metadata": {},
      "outputs": [],
      "source": []
    },
    {
      "cell_type": "markdown",
      "metadata": {
        "id": "No7wYqgd0Z2s"
      },
      "source": [
        "sample test cases\n",
        "name -- pharmocologic class\n",
        "\n",
        "1)Betadine → Antiseptic (Povidone-Iodine)\n",
        "\n",
        "2)Naproxen → Nonsteroidal Anti-Inflammatory Drug (NSAID)\n",
        "\n",
        "3)oisturizing Antibacterial → Antibacterial agent (Exact classification depends on active ingredient)\n",
        "\n",
        "4)NonExistentDrug - No data found for the drug"
      ]
    },
    {
      "cell_type": "markdown",
      "metadata": {
        "id": "wqqechoIzl3u"
      },
      "source": [
        "## using rxcui - cannot get class name\n"
      ]
    },
    {
      "cell_type": "code",
      "execution_count": 1,
      "metadata": {
        "colab": {
          "base_uri": "https://localhost:8080/"
        },
        "id": "XLs7z7NPlhfP",
        "outputId": "21dc65a6-d500-4f95-be99-bc46b4e61002"
      },
      "outputs": [
        {
          "name": "stdout",
          "output_type": "stream",
          "text": [
            "response is:<Response [200]>\n",
            "{}\n",
            "Drug not found in RxNorm database.\n"
          ]
        }
      ],
      "source": [
        "# import requests\n",
        "# import json\n",
        "# # def get_rxcui(drug_name):\n",
        "# #     \"\"\"Fetch the RxCUI (RxNorm Concept Unique Identifier) for a given drug name.\"\"\"\n",
        "# #     url = f\"https://rxnav.nlm.nih.gov/REST/rxcui.json?name={drug_name}&search=1\"\n",
        "# #     response = requests.get(url)\n",
        "# #     data = response.json()\n",
        "\n",
        "# #     if 'idGroup' in data and 'rxnormId' in data['idGroup']:\n",
        "# #         return data['idGroup']['rxnormId'][0]\n",
        "# #     return None\n",
        "\n",
        "# def get_pharmacologic_class(drug_name):\n",
        "\n",
        "#     \"\"\"Retrieve the pharmacologic class for a given RxCUI.\"\"\"\n",
        "#     url = f\"https://rxnav.nlm.nih.gov/REST/rxclass/class/byDrugName.json?drugName={drug_name}&relaSource=MEDRT&relas=may_treat\"\n",
        "#     response = requests.get(url)\n",
        "#     print(f\"response is:{response}\")\n",
        "#     data = response.json()\n",
        "#     print(json.dumps(data,indent=4))\n",
        "\n",
        "#     if 'propConceptGroup' in data and 'propConcept' in data['propConceptGroup']:\n",
        "#         return [concept['propValue'] for concept in data['propConceptGroup']['propConcept']]\n",
        "#     return None\n",
        "\n",
        "# def main():\n",
        "#     drug_name = input(\"Enter the drug name: \").strip()\n",
        "#     rxcui = get_pharmacologic_class(drug_name)\n",
        "\n",
        "#     if not rxcui:\n",
        "#         print(\"Drug not found in RxNorm database.\")\n",
        "#         return\n",
        "\n",
        "#     pharmacologic_classes = get_pharmacologic_class(rxcui)\n",
        "\n",
        "#     if pharmacologic_classes:\n",
        "#         print(f\"Pharmacologic Class for {drug_name}: {', '.join(pharmacologic_classes)}\")\n",
        "#     else:\n",
        "#         print(f\"No pharmacologic class information found for {drug_name}.\")\n",
        "\n",
        "# if __name__ == \"__main__\":\n",
        "#     main()\n"
      ]
    },
    {
      "cell_type": "markdown",
      "metadata": {
        "id": "Co_8R8lpz2en"
      },
      "source": [
        "## drug bank api -paid\n"
      ]
    },
    {
      "cell_type": "code",
      "execution_count": 2,
      "metadata": {
        "colab": {
          "base_uri": "https://localhost:8080/"
        },
        "collapsed": true,
        "id": "6dJPMS99t-Lw",
        "outputId": "e315a33e-44ed-42c2-d2bd-481c9a19ada7"
      },
      "outputs": [
        {
          "name": "stdout",
          "output_type": "stream",
          "text": [
            "Error: 401\n"
          ]
        }
      ],
      "source": [
        "# base_url='https://api.drugbank.com/v1/us'\n",
        "# response=requests.get(base_url)\n",
        "# if response.status_code==200:\n",
        "#   try:\n",
        "#     # data=response.json()\n",
        "#     print(response.text)\n",
        "#     print(response.json())\n",
        "#   except requests.exceptions.JSONDecodeError as e:\n",
        "#     print(f\"Error decoding JSON: {e}\")\n",
        "# else:\n",
        "#   print(f\"Error: {response.status_code}\")\n",
        "\n",
        "\n"
      ]
    },
    {
      "cell_type": "markdown",
      "metadata": {
        "id": "nwQk5k3W0MBY"
      },
      "source": [
        "## using open fda -"
      ]
    },
    {
      "cell_type": "code",
      "execution_count": 57,
      "metadata": {
        "colab": {
          "base_uri": "https://localhost:8080/",
          "height": 89
        },
        "id": "yMIEqTszyMYx",
        "outputId": "3ea4f5bf-760d-48d9-8fc1-ee077deb649b"
      },
      "outputs": [
        {
          "data": {
            "text/plain": [
              "'\"Pharmacological class not found for \\'amoxicillin\\' in OpenFDA.\"'"
            ]
          },
          "execution_count": 57,
          "metadata": {},
          "output_type": "execute_result"
        }
      ],
      "source": [
        "import requests\n",
        "import json\n",
        "def get_pharmacological_class(drug_name):\n",
        "    # OpenFDA API endpoint\n",
        "    base_url = \"https://api.fda.gov/drug/label.json\"\n",
        "    search_url = f\"{base_url}?search=openfda.brand_name:{drug_name}\"\n",
        "\n",
        "    try:\n",
        "        response = requests.get(search_url)\n",
        "        response.raise_for_status()\n",
        "        search_data = response.json()\n",
        "\n",
        "\n",
        "        if not search_data.get('results', []):\n",
        "            return f\"Error: No results found for '{drug_name}' in OpenFDA.\"\n",
        "\n",
        "\n",
        "        label = search_data['results'][0]\n",
        "        openfda = label.get('openfda', {})\n",
        "\n",
        "        # Extract pharmacological class information\n",
        "        pharm_class_moa = openfda.get('pharm_class_moa', [])\n",
        "        pharm_class_pe = openfda.get('pharm_class_pe', [])\n",
        "        pharm_class_cs = openfda.get('pharm_class_cs', [])\n",
        "        pharm_class_epc = openfda.get('pharm_class_epc', [])\n",
        "\n",
        "        # Combine all pharmacological class information\n",
        "        pharmacological_class = {\n",
        "            \"Mechanism of Action (MoA)\": pharm_class_moa,\n",
        "            \"Pharmacologic Effect (PE)\": pharm_class_pe,\n",
        "            \"Chemical Structure (CS)\": pharm_class_cs,\n",
        "            \"Established Pharmacologic Class (EPC)\": pharm_class_epc\n",
        "        }\n",
        "\n",
        "        if any(pharmacological_class.values()):\n",
        "            return pharmacological_class\n",
        "        else:\n",
        "            return f\"Pharmacological class not found for '{drug_name}' in OpenFDA.\"\n",
        "\n",
        "    except requests.exceptions.RequestException as e:\n",
        "        return f\"Error: Failed to fetch data from OpenFDA. Details: {e}\"\n",
        "    except ValueError as e:\n",
        "        return f\"Error: Invalid JSON response. Details: {e}\"\n",
        "\n",
        "# Example usage\n",
        "drug_name=input(\"Enter the drug name: \").strip()\n",
        "drug_name=drug_name.lower()\n",
        "pharm_class = get_pharmacological_class(drug_name)\n",
        "json.dumps(pharm_class)\n",
        "# print(f\"Pharmacological class of {drug_name}: {pharm_class}\")"
      ]
    },
    {
      "cell_type": "code",
      "execution_count": 56,
      "metadata": {
        "colab": {
          "base_uri": "https://localhost:8080/"
        },
        "id": "1K9y6NuU4w3P",
        "outputId": "688909da-e055-47bf-9c7e-ffcf79c4ba7d"
      },
      "outputs": [
        {
          "name": "stdout",
          "output_type": "stream",
          "text": [
            "Given drug name: isopropyl alcohol\n",
            "Generic Pharmacological class name is:\n",
            "Nonsteroidal Anti-inflammatory Drug [EPC]\n"
          ]
        }
      ],
      "source": [
        "print(\"Given drug name:\",drug_name)\n",
        "if (type(pharm_class)==str and \"Error\" in pharm_class):\n",
        "    print(\"not present in openFDA\")\n",
        "else:\n",
        "    print(f\"Generic Pharmacological class name is:\")\n",
        "    for x in pharm_class['Established Pharmacologic Class (EPC)']:\n",
        "        print(x)"
      ]
    }
  ],
  "metadata": {
    "colab": {
      "provenance": []
    },
    "kernelspec": {
      "display_name": "Python 3",
      "name": "python3"
    },
    "language_info": {
      "codemirror_mode": {
        "name": "ipython",
        "version": 3
      },
      "file_extension": ".py",
      "mimetype": "text/x-python",
      "name": "python",
      "nbconvert_exporter": "python",
      "pygments_lexer": "ipython3",
      "version": "3.12.8"
    }
  },
  "nbformat": 4,
  "nbformat_minor": 0
}
